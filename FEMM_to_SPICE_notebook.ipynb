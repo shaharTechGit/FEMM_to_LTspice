{
 "cells": [
  {
   "cell_type": "markdown",
   "id": "197dea23-ebe5-4928-a1f7-91bfe464dc5f",
   "metadata": {},
   "source": [
    "# FEMM_to_LTspice Jupyter Notebook\n"
   ]
  },
  {
   "cell_type": "raw",
   "id": "1a75bda6-e9d6-46ae-bd84-8077a7cbccb6",
   "metadata": {},
   "source": [
    "Project FEMM_to_LTspice (project number 7801)\n",
    "The Power Electronics and Renewable Energy Lab (PEARL)\n",
    "The Andrew and Enra Viterbi Faculty of Electrical and Computer Engineering\n",
    "Technion - Israel Institute of Technology\n",
    "\n",
    "Author: Shahar Zamir\n",
    "Last eddited: 14 August 2024\n",
    "Last eddited by: Shahar Zamir\n",
    "\n",
    "TODO: add a short explenation about preperations - anaconda and 'pip install pyfemm ltspice' etc."
   ]
  },
  {
   "cell_type": "code",
   "execution_count": 1,
   "id": "9b20f282-37f5-4be4-947e-c5c4823aab36",
   "metadata": {},
   "outputs": [
    {
     "name": "stderr",
     "output_type": "stream",
     "text": [
      "Matplotlib is building the font cache; this may take a moment.\n"
     ]
    }
   ],
   "source": [
    "import numpy as np\n",
    "import matplotlib.pyplot as plt\n",
    "\n",
    "import femm\n",
    "\n",
    "import ltspice\n",
    "import xml.etree.ElementTree as ET\n",
    "\n",
    "import os\n",
    "import datetime\n",
    "import subprocess"
   ]
  },
  {
   "cell_type": "markdown",
   "id": "e3e8dfb1-2698-4ff7-9a78-b82624fd7628",
   "metadata": {},
   "source": [
    "# FEMM\n"
   ]
  },
  {
   "cell_type": "code",
   "execution_count": 3,
   "id": "5f25cfde-9ec4-4bb6-9815-502fb4b09d7f",
   "metadata": {},
   "outputs": [],
   "source": [
    "# FEMM\n",
    "\n",
    "# Path to the FEMM installation directory\n",
    "femm_path = r'C:\\femm42'  # Modify this path to match your FEMM installation directory\n",
    "# femm_path = r'C:\\Program Files\\femm42'  # Modify this path to match your FEMM installation directory\n",
    "\n",
    "# Append the FEMM path to the PATH environment variable\n",
    "os.environ['PATH'] += os.pathsep + femm_path\n",
    "\n",
    "# Verify the PATH update\n",
    "# print(os.environ['PATH'])"
   ]
  },
  {
   "cell_type": "code",
   "execution_count": 13,
   "id": "5aba3368-f9f5-4ac1-a2a3-5c2346cc31df",
   "metadata": {},
   "outputs": [],
   "source": [
    "# At this point you can choose:\n",
    "# 1 - to load an exciting model of FEMM (skip down to the right cell) \n",
    "# 2 - or Create a new model in FEMM (stay here and continue)\n",
    "\n",
    "# Open FEMM and create a new magnetostatic problem\n",
    "femm.openfemm()\n",
    "femm.newdocument(0) # 0 for magnetic problem\n",
    "\n",
    "# Define problem\n",
    "# mi_probdef(freq[Hz],units,type,precision,depth,minangle,(acsolver))\n",
    "# DC - for faster results (Debug - toggle comment to switch AC/DC):\n",
    "\n",
    "# femm.mi_probdef(0, \"millimeters\", \"planar\", 1e-8, 12.7, 30) # DC freq=0\n",
    "femm.mi_probdef(10e+3, \"millimeters\", \"planar\", 1e-8, 12.7, 30) # AC 10kHz\n",
    "\n",
    "# Minimize FEMM GUI manually "
   ]
  },
  {
   "cell_type": "code",
   "execution_count": 15,
   "id": "92fec5e5-4433-4267-a69d-0efc39a0d787",
   "metadata": {},
   "outputs": [],
   "source": [
    "# Define materials\n",
    "femm.mi_getmaterial('Air')\n",
    "femm.mi_getmaterial('10 AWG')\n",
    "\n",
    "# Add a new non-linear material defined by B-H curve (data points)\n",
    "# Read the B-H curve data from a .dat file\n",
    "data_Ferrite_N87_BH_Curve = np.loadtxt('Ferrite_N87_BH_Curve.dat')\n",
    "B_values = data_Ferrite_N87_BH_Curve[:, 0]  # First column (B values)\n",
    "H_values = data_Ferrite_N87_BH_Curve[:, 1]  # Second column (H values)\n",
    "# Assain manualy option (May NOT work):\n",
    "# B_values = [0, 0.2, 0.4, 0.6, 0.8, 1.0]        # T\n",
    "# H_values = [0, 1000, 2000, 3000, 4000, 5000]  # A/m\n",
    "\n",
    "# Define the non-linear material with the B-H curve\n",
    "material_name = \"Ferrite_N87\"\n",
    "femm.mi_addmaterial(material_name,\n",
    "                    1,               # Relative permeability in the x direction (optional) - mu_r,x\n",
    "                    1,               # Relative permeability in the y direction (optional) - mu_r,y\n",
    "                    0.35,            # H_c Coercivity (S/m)\n",
    "                    0,               # Source Current Density - J \n",
    "                    0.0001,          # Electrical Conductivity - Sigma\n",
    "                    0,               # Lam_thickness\n",
    "                    0,               # Lam_fill\n",
    "                    1)               # Lam_type (default value)\n",
    "\n",
    "# Add B-H curve data points\n",
    "for B, H in zip(B_values, H_values):\n",
    "    femm.mi_addbhpoint(material_name, B, H)\n",
    "\n",
    "# Add circuits (define coils and current value. +/- for current direction. Value in Amper. e.g. 5 means I=5A\n",
    "femm.mi_addcircprop(\"inner_coil\", 5, 1)\n",
    "femm.mi_addcircprop(\"outter_coil\", -5, 1)"
   ]
  },
  {
   "cell_type": "code",
   "execution_count": 17,
   "id": "fadd1966-17b0-4427-afba-c7b8cdd04eab",
   "metadata": {},
   "outputs": [],
   "source": [
    "# Toroid Inductor Geometry\n",
    "\n",
    "# Core dimensions\n",
    "D_in = 12.7      # Inner diameter in mm\n",
    "# D_in = 5\n",
    "D_out = 20.32    # Outer diameter in mm\n",
    "h = 12.7         # Height in mm (actually set in *depth* while defining the problem at the begining ^ )\n",
    "r_in = D_in / 2  # Inner radius\n",
    "r_out = D_out / 2 # Outer radius\n",
    "\n",
    "# Coil dimensions\n",
    "coil_diameter = 2.588   # Diameter of 10 AWG wire (approximately 2.588 mm)\n",
    "# Gap for coil dimensions (adjust as needed)\n",
    "# gap_for_coil = coil_diameter + 0.1\n",
    "gap_for_coil = 0.5 # smaller then whats neede just for better visuality - shouldnt influence the results? ?TODO - make sure?"
   ]
  },
  {
   "cell_type": "code",
   "execution_count": 19,
   "id": "8917e192-8fe8-4ad4-a339-bbcb03b690fc",
   "metadata": {},
   "outputs": [],
   "source": [
    "# Drawing\n",
    "\n",
    "# Core center\n",
    "center_x = 0\n",
    "center_y = 0\n",
    "\n",
    "# Create core geometry (toroid cross-section)\n",
    "# Inner\n",
    "femm.mi_drawarc(center_x + r_in, center_y, center_x - r_in, center_y, 180, 1)\n",
    "femm.mi_drawarc(center_x - r_in, center_y, center_x + r_in, center_y, 180, 1)\n",
    "# Add gaps from inside of the core\n",
    "femm.mi_drawarc(center_x + r_in - gap_for_coil, center_y, center_x - r_in + gap_for_coil, center_y, 180, 1)\n",
    "femm.mi_drawarc(center_x - r_in + gap_for_coil, center_y, center_x + r_in - gap_for_coil, center_y, 180, 1)\n",
    "# Outer\n",
    "femm.mi_drawarc(center_x + r_out, center_y, center_x - r_out, center_y, 180, 1)\n",
    "femm.mi_drawarc(center_x - r_out, center_y, center_x + r_out, center_y, 180, 1)\n",
    "# Add gaps from outside of the core\n",
    "femm.mi_drawarc(center_x + r_out + gap_for_coil, center_y, center_x - r_out - gap_for_coil, center_y, 180, 1)\n",
    "femm.mi_drawarc(center_x - r_out - gap_for_coil, center_y, center_x + r_out + gap_for_coil, center_y, 180, 1)\n",
    "\n",
    "# At this point you should see drawings in the GUI, open it to make sure."
   ]
  },
  {
   "cell_type": "code",
   "execution_count": 21,
   "id": "ad70163e-4357-48db-9a26-b47e883e1f81",
   "metadata": {},
   "outputs": [],
   "source": [
    "# Assign materials\n",
    "# Outter materail: Outside r_out + gap_for_coil\n",
    "femm.mi_addblocklabel(center_x + r_out + gap_for_coil + 1, center_y + 5)\n",
    "femm.mi_selectlabel(center_x + r_out + gap_for_coil + 1, center_y + 5)\n",
    "femm.mi_setblockprop('Air', 1, 0, '', 0, 0, 0)\n",
    "femm.mi_clearselected()\n",
    "\n",
    "# Inner Material: Inside r_in - gap_for_coil\n",
    "femm.mi_addblocklabel(center_x + 1, center_y + 1)\n",
    "femm.mi_selectlabel(center_x + 1, center_y + 1)\n",
    "femm.mi_setblockprop('Air', 1, 0, '', 0, 0, 0)\n",
    "femm.mi_clearselected()\n",
    "\n",
    "# Core Material: Between r_out and r_in\n",
    "femm.mi_addblocklabel(center_x + (r_in + r_out) / 2, center_y)\n",
    "femm.mi_selectlabel(center_x + (r_in + r_out) / 2, center_y)\n",
    "femm.mi_setblockprop('Ferrite_N87', 1, 0, '', 0, 0, 0)\n",
    "femm.mi_clearselected()"
   ]
  },
  {
   "cell_type": "code",
   "execution_count": 23,
   "id": "47264012-0e6e-4c7a-885a-4300a5aefc96",
   "metadata": {},
   "outputs": [],
   "source": [
    "# Assign circuits (coil)\n",
    "# Outter Circuit: Between r_out and r_out + gap_for_coil\n",
    "femm.mi_addblocklabel(center_x + r_out + gap_for_coil / 2, center_y)\n",
    "femm.mi_selectlabel(center_x + r_out + gap_for_coil / 2, center_y)\n",
    "femm.mi_setblockprop(\"10 AWG\", 1, 0, \"outter_coil\", 0, 0, 20)\n",
    "femm.mi_clearselected()\n",
    "\n",
    "# Inner Circuit: Between r_in - gap_for_coil and r_in\n",
    "femm.mi_addblocklabel(center_x + r_in - gap_for_coil / 2, center_y)\n",
    "femm.mi_selectlabel(center_x + r_in - gap_for_coil / 2, center_y)\n",
    "femm.mi_setblockprop(\"10 AWG\", 1, 0, \"inner_coil\", 0, 0, 20)\n",
    "femm.mi_clearselected()"
   ]
  },
  {
   "cell_type": "code",
   "execution_count": 25,
   "id": "d81e4a2b-cd2a-4259-99a6-d5bab32650b5",
   "metadata": {},
   "outputs": [],
   "source": [
    "# Create IABC open boundary  (auto optin to creat boundry condition)\n",
    "femm.mi_makeABC()"
   ]
  },
  {
   "cell_type": "code",
   "execution_count": 27,
   "id": "31d334cf-81c2-453c-89bb-9a5effe234a2",
   "metadata": {},
   "outputs": [],
   "source": [
    "# Save the document - optinal - save with date and time to avoid overriding\n",
    "\n",
    "# Get the current date and time\n",
    "now = datetime.datetime.now()\n",
    "# Format the date and time as a string\n",
    "timestamp = now.strftime(\"%d%m%Y_%H%M\")\n",
    "# Create the filename with the timestamp\n",
    "filename = f'toroid_core_geometry_{timestamp}.fem'\n",
    "\n",
    "# Save the document with the new filename\n",
    "femm.mi_saveas(filename)\n",
    "\n",
    "# femm.mi_saveas('toroid_core_geometry.fem')\n",
    "# femm.mi_saveas('toroid_core_geometry_DC.fem')\n",
    "# femm.mi_saveas('toroid_core_geometry_DC_2.fem')\n",
    "# femm.mi_saveas('toroid_core_geometry_laptop_test.fem')\n",
    "# femm.mi_saveas('toroid_core_geometry_AC.fem')"
   ]
  },
  {
   "cell_type": "code",
   "execution_count": 29,
   "id": "80041f46-b1e1-4750-8e66-ec57ebd3acaf",
   "metadata": {},
   "outputs": [],
   "source": [
    "# Analyze the model - may take some time, aspecialy while using frequency. Wait for the [*] on the left to be [number]\n",
    "femm.mi_analyze()\n",
    "femm.mi_loadsolution()"
   ]
  },
  {
   "cell_type": "code",
   "execution_count": 31,
   "id": "a7f9a246-08de-4a4b-8005-3712731ddbc6",
   "metadata": {},
   "outputs": [
    {
     "name": "stdout",
     "output_type": "stream",
     "text": [
      "[5, (0.4032410495956466+39.83361252847401j), (0.0006339716335113877-6.114117854996557e-06j)]\n",
      "Inductance: (0.00012679432670227754-1.2228235709993114e-06j) H\n",
      "Inductance: 126.79 µH\n"
     ]
    }
   ],
   "source": [
    "# Calculate the inductancy L\n",
    "\n",
    "# Get the circuit properties\n",
    "circuit_name = 'inner_coil'  # Replace with the actual circuit name\n",
    "circuit_properties = femm.mo_getcircuitproperties(circuit_name)\n",
    "print(circuit_properties)\n",
    "\n",
    "current = circuit_properties[0]\n",
    "flux_linkage = circuit_properties[2]\n",
    "\n",
    "# Calculate the inductance\n",
    "L = flux_linkage / current\n",
    "print(f'Inductance: {L} H')\n",
    "\n",
    "# Extract the real part and convert to microhenries\n",
    "L_microhenry = L.real * 1e6\n",
    "print(f'Inductance: {L_microhenry:.2f} µH')"
   ]
  },
  {
   "cell_type": "code",
   "execution_count": 33,
   "id": "3629bf98-012a-4b2c-b182-491c4e4b11b5",
   "metadata": {},
   "outputs": [
    {
     "name": "stdout",
     "output_type": "stream",
     "text": [
      "Power Dissipation: 0.03904977484928465 Watt\n",
      "Equivalent Series Resistance (ESR): 0.0015619909939713862 Ω\n",
      "ESR: 1.5620 mΩ\n"
     ]
    }
   ],
   "source": [
    "# Calculate the ESR (Equivalent Series Resistance) of the inductor\n",
    "\n",
    "# Define the area for integration, where the coil goes\n",
    "# This part depends on the specific model and how it is defined\n",
    "femm.mo_seteditmode('area')\n",
    "femm.mo_selectblock(center_x + r_out + gap_for_coil / 2, center_y)  # Replace with the coordinates of your coil area\n",
    "femm.mo_selectblock(center_x + r_in - gap_for_coil / 2, center_y)\n",
    "\n",
    "# Integrate the resistive losses\n",
    "power_dissipation = femm.mo_blockintegral(4)  # Integral type 4 is for resistive losses\n",
    "print(f'Power Dissipation: {power_dissipation} Watt')\n",
    "\n",
    "# Calculate the ESR\n",
    "ESR = power_dissipation / (current ** 2)\n",
    "print(f'Equivalent Series Resistance (ESR): {ESR} Ω')\n",
    "\n",
    "# convert to mili oham\n",
    "ESR_mili = ESR.real * 1e3\n",
    "print(f'ESR: {ESR_mili:.4f} mΩ')"
   ]
  },
  {
   "cell_type": "markdown",
   "id": "eb64ca35-5196-496e-a7a9-7cc439bdbae9",
   "metadata": {},
   "source": [
    "# FEMM - Use an existing file\n"
   ]
  },
  {
   "cell_type": "code",
   "execution_count": 37,
   "id": "671534e5-4a13-490a-aa71-e728953a3b16",
   "metadata": {},
   "outputs": [],
   "source": [
    "# Use an existing file\n",
    "# CHANGE PATH\n",
    "\n",
    "femm.openfemm()\n",
    "# Open an existing FEMM file\n",
    "# fem_file_path = r'C:\\Users\\xzami\\anaconda3\\project_femm_to_spice\\toroid_core_geometry_V0.fem'  # Replace with the path to your .fem file\n",
    "fem_file_path = r'C:\\Users\\PEARLLAB1\\anaconda3\\FEMM_to_LTspice\\toroid_core_geometry_28082024_1810.fem'  # Replace with the path to your .fem file\n",
    "femm.opendocument(fem_file_path)\n",
    "# ans_file_path = r'C:\\Users\\xzami\\anaconda3\\project_femm_to_spice\\toroid_core_geometry_V0.ans'  # Replace with the path to your .fem file\n",
    "ans_file_path = r'C:\\Users\\PEARLLAB1\\anaconda3\\FEMM_to_LTspice\\toroid_core_geometry_28082024_1810.ans'  # Replace with the path to your .fem file\n",
    "femm.opendocument(ans_file_path)\n",
    "\n",
    "# Analyze the model\n",
    "# Toggle comment to analyze - may take some time\n",
    "# femm.mi_analyze()\n",
    "femm.mi_loadsolution()\n",
    "\n",
    "# Minimize FEMM GUI manually"
   ]
  },
  {
   "cell_type": "code",
   "execution_count": 39,
   "id": "14c24e7a-b7ca-4047-b2cd-85b0e4fa83b1",
   "metadata": {},
   "outputs": [],
   "source": [
    "# Toroid Inductor Geometry - should be changed acording to your design\n",
    "\n",
    "# Core dimensions\n",
    "D_in = 12.7      # Inner diameter in mm\n",
    "# D_in = 5\n",
    "D_out = 20.32    # Outer diameter in mm\n",
    "h = 12.7         # Height in mm (actually set in *depth* while defining the problem at the begining ^ )\n",
    "r_in = D_in / 2  # Inner radius\n",
    "r_out = D_out / 2 # Outer radius\n",
    "\n",
    "# Coil dimensions\n",
    "coil_diameter = 2.588   # Diameter of 10 AWG wire (approximately 2.588 mm)\n",
    "# Gap for coil dimensions (adjust as needed)\n",
    "# gap_for_coil = coil_diameter + 0.1\n",
    "gap_for_coil = 0.5 # smaller then whats neede just for better visuality - shouldnt influence the results? ?TODO - make sure?\n",
    "\n",
    "# Core center\n",
    "center_x = 0\n",
    "center_y = 0"
   ]
  },
  {
   "cell_type": "code",
   "execution_count": 41,
   "id": "96341c24-8d96-437d-970a-16391186b43b",
   "metadata": {},
   "outputs": [
    {
     "name": "stdout",
     "output_type": "stream",
     "text": [
      "[5, (0.4032410495956466+39.83361252847401j), (0.0006339716335113877-6.114117854996557e-06j)]\n",
      "Inductance: (0.00012679432670227754-1.2228235709993114e-06j) H\n",
      "Inductance: 126.79 µH\n",
      "Power Dissipation: 0.03904977484928465 Watt\n",
      "Equivalent Series Resistance (ESR): 0.0015619909939713862 Ω\n",
      "ESR: 1.5620 mΩ\n"
     ]
    }
   ],
   "source": [
    "# Calculate the inductancy L\n",
    "\n",
    "# Get the circuit properties\n",
    "circuit_name = 'inner_coil'  # Replace with the actual circuit name\n",
    "circuit_properties = femm.mo_getcircuitproperties(circuit_name)\n",
    "print(circuit_properties)\n",
    "\n",
    "current = circuit_properties[0]\n",
    "flux_linkage = circuit_properties[2]\n",
    "\n",
    "# Calculate the inductance\n",
    "L = flux_linkage / current\n",
    "print(f'Inductance: {L} H')\n",
    "\n",
    "# Extract the real part and convert to microhenries\n",
    "L_microhenry = L.real * 1e6\n",
    "print(f'Inductance: {L_microhenry:.2f} µH')\n",
    "\n",
    "# Format L_microhenry to 2 decimal places and assign to new_L_microhenry\n",
    "new_L_microhenry = round(L_microhenry, 2)\n",
    "# print(new_L_microhenry)\n",
    "\n",
    "\n",
    "# Calculate the ESR (Equivalent Series Resistance) of the inductor\n",
    "\n",
    "# Define the area for integration, where the coil goes\n",
    "# This part depends on the specific model and how it is defined\n",
    "femm.mo_seteditmode('area')\n",
    "femm.mo_selectblock(center_x + r_out + gap_for_coil / 2, center_y)  # Replace with the coordinates of your coil area\n",
    "femm.mo_selectblock(center_x + r_in - gap_for_coil / 2, center_y)\n",
    "\n",
    "# Integrate the resistive losses\n",
    "power_dissipation = femm.mo_blockintegral(4)  # Integral type 4 is for resistive losses\n",
    "print(f'Power Dissipation: {power_dissipation} Watt')\n",
    "\n",
    "# Calculate the ESR\n",
    "ESR = power_dissipation / (current ** 2)\n",
    "print(f'Equivalent Series Resistance (ESR): {ESR} Ω')\n",
    "\n",
    "# convert to mili oham\n",
    "ESR_mili = ESR.real * 1e3\n",
    "print(f'ESR: {ESR_mili:.4f} mΩ')\n",
    "\n",
    "# Format ESR_mili to 2 decimal places and assign to new_ESR_mili\n",
    "new_ESR_mili = round(ESR_mili, 2)\n",
    "# print(new_ESR_mili)"
   ]
  },
  {
   "cell_type": "code",
   "execution_count": 43,
   "id": "a339daf7-1bff-48b9-a719-ab92559e074f",
   "metadata": {},
   "outputs": [],
   "source": [
    "# Close FEMM\n",
    "femm.closefemm()"
   ]
  },
  {
   "cell_type": "markdown",
   "id": "fe368b4e-5e7b-4f1e-9d03-88f028171f12",
   "metadata": {},
   "source": [
    "# LTspice\n"
   ]
  },
  {
   "cell_type": "code",
   "execution_count": null,
   "id": "04c8329b-9dc3-428a-b1cc-3d3b1593e77c",
   "metadata": {},
   "outputs": [],
   "source": [
    "# import numpy as np\n",
    "# import matplotlib.pyplot as plt\n",
    "\n",
    "# import femm\n",
    "\n",
    "# import ltspice\n",
    "# import xml.etree.ElementTree as ET\n",
    "\n",
    "# import os\n",
    "# import datetime\n",
    "# import subprocess"
   ]
  },
  {
   "cell_type": "code",
   "execution_count": 51,
   "id": "69db3518-9939-4b65-9add-d9eb7979f3e5",
   "metadata": {},
   "outputs": [],
   "source": [
    "# Path to the LTspice installation directory\n",
    "# ltspice_path = r'C:\\Program Files\\ADI\\LTspice'\n",
    "ltspice_path = r'C:\\Users\\PEARLLAB1\\AppData\\Local\\Programs\\ADI\\LTspice'\n",
    "\n",
    "# Append the LTspice path to the PATH environment variable\n",
    "os.environ['PATH'] += os.pathsep + ltspice_path\n",
    "\n",
    "# Verify the PATH update\n",
    "# print(os.environ['PATH'])"
   ]
  },
  {
   "cell_type": "code",
   "execution_count": 53,
   "id": "8448203b-0eb1-4bba-b542-a690d787c6cd",
   "metadata": {},
   "outputs": [
    {
     "name": "stdout",
     "output_type": "stream",
     "text": [
      "C:\\Users\\PEARLLAB1\\anaconda3;C:\\Users\\PEARLLAB1\\anaconda3\\Library\\mingw-w64\\bin;C:\\Users\\PEARLLAB1\\anaconda3\\Library\\usr\\bin;C:\\Users\\PEARLLAB1\\anaconda3\\Library\\bin;C:\\Users\\PEARLLAB1\\anaconda3\\Scripts;C:\\Users\\PEARLLAB1\\anaconda3\\bin;C:\\Users\\PEARLLAB1\\anaconda3\\condabin;C:\\Users\\PEARLLAB1\\anaconda3;C:\\Users\\PEARLLAB1\\anaconda3\\Library\\mingw-w64\\bin;C:\\Users\\PEARLLAB1\\anaconda3\\Library\\usr\\bin;C:\\Users\\PEARLLAB1\\anaconda3\\Library\\bin;C:\\Users\\PEARLLAB1\\anaconda3\\Scripts;C:\\Windows\\system32;C:\\Windows;C:\\Windows\\System32\\Wbem;C:\\Windows\\System32\\WindowsPowerShell\\v1.0;C:\\Windows\\System32\\OpenSSH;C:\\Program Files\\MATLAB\\R2021b\\runtime\\win64;C:\\Program Files\\MATLAB\\R2021b\\bin;C:\\Program Files\\Wolfram Research\\WolframScript;C:\\Users\\PEARLLAB1\\AppData\\Local\\Microsoft\\WindowsApps;.;C:\\femm42;C:\\Users\\PEARLLAB1\\AppData\\Local\\Programs\\ADI\\LTspice;C:\\Users\\PEARLLAB1\\AppData\\Local\\Programs\\ADI\\LTspice\n"
     ]
    }
   ],
   "source": [
    "print(os.environ['PATH'])"
   ]
  },
  {
   "cell_type": "code",
   "execution_count": 47,
   "id": "6ea64f18-334a-4aea-880a-984ade551a1a",
   "metadata": {},
   "outputs": [],
   "source": [
    "def open_ltspice_gui(ltspice_exe, sim_file):\n",
    "    # Command to open LTspice GUI and load the specified file\n",
    "    command = f'start \"\" \"{ltspice_exe}\" \"{sim_file}\"'\n",
    "    print(f\"Executing command: {command}\")\n",
    "    \n",
    "    try:\n",
    "        subprocess.run(command, shell=True)\n",
    "        print(\"LTspice GUI opened and file loaded.\")\n",
    "    except subprocess.CalledProcessError as e:\n",
    "        print(f\"An error occurred while running the simulation: {e}\")"
   ]
  },
  {
   "cell_type": "code",
   "execution_count": 57,
   "id": "ed665527-bcba-40ec-8b95-a80a96fabab5",
   "metadata": {},
   "outputs": [],
   "source": [
    "# Path to LTspice executable\n",
    "ltspice_exe = 'LTspice.exe'\n",
    "\n",
    "# Path to your LTspice file (.asc or .net)\n",
    "# sim_file = r'C:\\Users\\xzami\\anaconda3\\project_femm_to_spice\\Boost_Converter_V0.asc'\n",
    "sim_file = r'C:\\Users\\PEARLLAB1\\anaconda3\\FEMM_to_LTspice\\Boost_Converter_V0.asc'"
   ]
  },
  {
   "cell_type": "code",
   "execution_count": 63,
   "id": "da538bcf-0671-448f-9502-28d34a6cbfc6",
   "metadata": {},
   "outputs": [
    {
     "name": "stdout",
     "output_type": "stream",
     "text": [
      "Executing command: start \"\" \"LTspice.exe\" \"C:\\Users\\PEARLLAB1\\anaconda3\\FEMM_to_LTspice\\Boost_Converter_V0.asc\"\n",
      "LTspice GUI opened and file loaded.\n"
     ]
    }
   ],
   "source": [
    "# Call the function to open LTspice and load the file\n",
    "open_ltspice_gui(ltspice_exe, sim_file)"
   ]
  },
  {
   "cell_type": "code",
   "execution_count": 65,
   "id": "e041a061-cf72-4c4a-8c9f-3e7af2127559",
   "metadata": {},
   "outputs": [],
   "source": [
    "# At this point you need to run the simulation manually throw the GUI\n",
    "# in order to generate the .raw file\n",
    "# or run the next cell and then close the GUI manually (and ignore the errors :) )"
   ]
  },
  {
   "cell_type": "code",
   "execution_count": 67,
   "id": "40729b9e-1f79-4115-85c1-434c12715df5",
   "metadata": {},
   "outputs": [],
   "source": [
    "# Define the command to run LTspice with the simulation\n",
    "command = [ltspice_exe, '-Run', sim_file]\n",
    "\n",
    "# Run the command - THEN close the GUI manually!\n",
    "result = subprocess.run(command, capture_output=True, text=True)\n",
    "\n",
    "# TODO \"stop\" the cell\n",
    "# for now close the GUI manually before proceeding"
   ]
  },
  {
   "cell_type": "code",
   "execution_count": 69,
   "id": "6347bec6-8ec0-4d62-afb4-5ef3824633d9",
   "metadata": {},
   "outputs": [],
   "source": [
    "def load_simulation_results(sim_file):\n",
    "    raw_file = sim_file.replace('.asc', '.raw')\n",
    "    \n",
    "    # if not os.path.exists(raw_file):\n",
    "        # raise FileNotFoundError(f\"The raw file '{raw_file}' does not exist.\")\n",
    "    \n",
    "    l = ltspice.Ltspice(raw_file)\n",
    "    l.parse()\n",
    "    return l"
   ]
  },
  {
   "cell_type": "code",
   "execution_count": 71,
   "id": "74158e65-8c2c-46a9-9b5c-d0cb430f5d08",
   "metadata": {},
   "outputs": [],
   "source": [
    "# Load the simulation results\n",
    "ltspice_data = load_simulation_results(sim_file)"
   ]
  },
  {
   "cell_type": "code",
   "execution_count": 73,
   "id": "a8c850a1-90bc-4e47-bdf3-31024f901c57",
   "metadata": {},
   "outputs": [
    {
     "name": "stdout",
     "output_type": "stream",
     "text": [
      "Available signals: ['time', 'V(v_in)', 'V(n002)', 'V(v_out)', 'V(n001)', 'V(vst)', 'V(n5v)', 'V(p5v)', 'V(vc)', 'V(d)', 'V(n003)', 'I(B1)', 'Id(M2)', 'Ig(M2)', 'Is(M2)', 'I(C1)', 'I(C2)', 'I(D1)', 'I(L1)', 'I(R1)', 'I(Esr)', 'I(V1)', 'I(V2)', 'I(V3)', 'I(V4)', 'I(V5)', 'Ix(u2:IN+)', 'Ix(u2:IN-)', 'Ix(u2:POS)', 'Ix(u2:NEG)', 'Ix(u2:OUT)']\n"
     ]
    }
   ],
   "source": [
    "# Get the list of available signals\n",
    "\n",
    "signals = ltspice_data.variables\n",
    "# getData()\n",
    "print(\"Available signals:\", signals)"
   ]
  },
  {
   "cell_type": "code",
   "execution_count": 75,
   "id": "c4f6eac6-a418-4f11-ac06-c2ac4de38d11",
   "metadata": {},
   "outputs": [
    {
     "name": "stderr",
     "output_type": "stream",
     "text": [
      "C:\\Users\\PEARLLAB1\\AppData\\Local\\Temp\\ipykernel_7256\\323480381.py:3: DeprecationWarning: Call to deprecated method getData. (use method which follows pep8) -- Deprecated since version 1.0.0.\n",
      "  voltage = ltspice_data.getData('V(v_in)')\n",
      "C:\\Users\\PEARLLAB1\\AppData\\Local\\Temp\\ipykernel_7256\\323480381.py:4: DeprecationWarning: Call to deprecated method getTime. (use method which follows pep8) -- Deprecated since version 1.0.0.\n",
      "  time = ltspice_data.getTime()\n"
     ]
    },
    {
     "data": {
      "image/png": "[encoded data removed]",
      "text/plain": [
       "<Figure size 640x480 with 1 Axes>"
      ]
     },
     "metadata": {},
     "output_type": "display_data"
    }
   ],
   "source": [
    "# Access a specific signal (e.g., V(n001))\n",
    "if 'V(v_in)' in signals:\n",
    "    voltage = ltspice_data.getData('V(v_in)')\n",
    "    time = ltspice_data.getTime()\n",
    "\n",
    "# Plot the results\n",
    "    plt.plot(time, voltage)\n",
    "    plt.xlabel('Time (s)')\n",
    "    plt.ylabel('Voltage (V)')\n",
    "    plt.title('Voltage at Node v_in')\n",
    "    plt.grid(True)\n",
    "    plt.show()\n",
    "else:\n",
    "    print(\"Signal 'V(v_in)' not found in the simulation results.\")"
   ]
  },
  {
   "cell_type": "code",
   "execution_count": 77,
   "id": "7848b8ff-2a9f-48c5-b6f5-29b9c51d46c9",
   "metadata": {},
   "outputs": [
    {
     "ename": "FileNotFoundError",
     "evalue": "[Errno 2] No such file or directory: 'C:\\\\Users\\\\xzami\\\\anaconda3\\\\project_femm_to_spice\\\\Boost_Converter_V0.asc'",
     "output_type": "error",
     "traceback": [
      "\u001b[1;31m---------------------------------------------------------------------------\u001b[0m",
      "\u001b[1;31mFileNotFoundError\u001b[0m                         Traceback (most recent call last)",
      "Cell \u001b[1;32mIn[77], line 5\u001b[0m\n\u001b[0;32m      2\u001b[0m asc_file \u001b[38;5;241m=\u001b[39m \u001b[38;5;124mr\u001b[39m\u001b[38;5;124m'\u001b[39m\u001b[38;5;124mC:\u001b[39m\u001b[38;5;124m\\\u001b[39m\u001b[38;5;124mUsers\u001b[39m\u001b[38;5;124m\\\u001b[39m\u001b[38;5;124mxzami\u001b[39m\u001b[38;5;124m\\\u001b[39m\u001b[38;5;124manaconda3\u001b[39m\u001b[38;5;124m\\\u001b[39m\u001b[38;5;124mproject_femm_to_spice\u001b[39m\u001b[38;5;124m\\\u001b[39m\u001b[38;5;124mBoost_Converter_V0.asc\u001b[39m\u001b[38;5;124m'\u001b[39m\n\u001b[0;32m      4\u001b[0m \u001b[38;5;66;03m# Read the .asc file with a specific encoding\u001b[39;00m\n\u001b[1;32m----> 5\u001b[0m \u001b[38;5;28;01mwith\u001b[39;00m \u001b[38;5;28mopen\u001b[39m(asc_file, \u001b[38;5;124m'\u001b[39m\u001b[38;5;124mr\u001b[39m\u001b[38;5;124m'\u001b[39m, encoding\u001b[38;5;241m=\u001b[39m\u001b[38;5;124m'\u001b[39m\u001b[38;5;124mlatin-1\u001b[39m\u001b[38;5;124m'\u001b[39m) \u001b[38;5;28;01mas\u001b[39;00m file:\n\u001b[0;32m      6\u001b[0m     lines \u001b[38;5;241m=\u001b[39m file\u001b[38;5;241m.\u001b[39mreadlines()\n",
      "File \u001b[1;32m~\\anaconda3\\Lib\\site-packages\\IPython\\core\\interactiveshell.py:324\u001b[0m, in \u001b[0;36m_modified_open\u001b[1;34m(file, *args, **kwargs)\u001b[0m\n\u001b[0;32m    317\u001b[0m \u001b[38;5;28;01mif\u001b[39;00m file \u001b[38;5;129;01min\u001b[39;00m {\u001b[38;5;241m0\u001b[39m, \u001b[38;5;241m1\u001b[39m, \u001b[38;5;241m2\u001b[39m}:\n\u001b[0;32m    318\u001b[0m     \u001b[38;5;28;01mraise\u001b[39;00m \u001b[38;5;167;01mValueError\u001b[39;00m(\n\u001b[0;32m    319\u001b[0m         \u001b[38;5;124mf\u001b[39m\u001b[38;5;124m\"\u001b[39m\u001b[38;5;124mIPython won\u001b[39m\u001b[38;5;124m'\u001b[39m\u001b[38;5;124mt let you open fd=\u001b[39m\u001b[38;5;132;01m{\u001b[39;00mfile\u001b[38;5;132;01m}\u001b[39;00m\u001b[38;5;124m by default \u001b[39m\u001b[38;5;124m\"\u001b[39m\n\u001b[0;32m    320\u001b[0m         \u001b[38;5;124m\"\u001b[39m\u001b[38;5;124mas it is likely to crash IPython. If you know what you are doing, \u001b[39m\u001b[38;5;124m\"\u001b[39m\n\u001b[0;32m    321\u001b[0m         \u001b[38;5;124m\"\u001b[39m\u001b[38;5;124myou can use builtins\u001b[39m\u001b[38;5;124m'\u001b[39m\u001b[38;5;124m open.\u001b[39m\u001b[38;5;124m\"\u001b[39m\n\u001b[0;32m    322\u001b[0m     )\n\u001b[1;32m--> 324\u001b[0m \u001b[38;5;28;01mreturn\u001b[39;00m io_open(file, \u001b[38;5;241m*\u001b[39margs, \u001b[38;5;241m*\u001b[39m\u001b[38;5;241m*\u001b[39mkwargs)\n",
      "\u001b[1;31mFileNotFoundError\u001b[0m: [Errno 2] No such file or directory: 'C:\\\\Users\\\\xzami\\\\anaconda3\\\\project_femm_to_spice\\\\Boost_Converter_V0.asc'"
     ]
    }
   ],
   "source": [
    "# Path to your LTspice schematic file (.asc)\n",
    "# asc_file = r'C:\\Users\\xzami\\anaconda3\\project_femm_to_spice\\Boost_Converter_V0.asc'\n",
    "asc_file = r'C:\\Users\\PEARLLAB1\\anaconda3\\FEMM_to_LTspice\\Boost_Converter_V0.asc'\n",
    "\n",
    "# Read the .asc file with a specific encoding\n",
    "with open(asc_file, 'r', encoding='latin-1') as file:\n",
    "    lines = file.readlines()\n",
    "\n",
    "# Print the first few lines to understand the format\n",
    "# for line in lines[:10]:\n",
    "#     print(line.strip())"
   ]
  },
  {
   "cell_type": "code",
   "execution_count": null,
   "id": "c5837369-c08a-43f0-8ee6-d323f03c5503",
   "metadata": {},
   "outputs": [],
   "source": [
    "# Function to modify the inductance value of an inductor\n",
    "\n",
    "def modify_inductance(lines, inductor_name, new_value):\n",
    "    for i, line in enumerate(lines):\n",
    "        if line.strip() == f\"SYMATTR InstName {inductor_name}\":\n",
    "            if lines[i + 1].strip().startswith(\"SYMATTR Value\"):\n",
    "                # Print the original lines for verification\n",
    "                print(f\"Original line {i}: {lines[i].strip()}\")\n",
    "                print(f\"Original line {i + 1}: {lines[i + 1].strip()}\")\n",
    "                \n",
    "                # Modify the inductance value\n",
    "                lines[i + 1] = f\"SYMATTR Value {new_value}\\n\"\n",
    "                \n",
    "                # Print the modified lines for verification\n",
    "                print(f\"Modified line {i}: {lines[i].strip()}\")\n",
    "                print(f\"Modified line {i + 1}: {lines[i + 1].strip()}\")\n",
    "                break\n",
    "    return lines"
   ]
  },
  {
   "cell_type": "code",
   "execution_count": null,
   "id": "a751844b-6c2c-416f-a5af-40f99e567928",
   "metadata": {},
   "outputs": [],
   "source": [
    "# Modify the inductance of L1 to a new value (e.g., 200uH)\n",
    "\n",
    "# new_inductance_value = '200u'\n",
    "new_inductance_value = f\"{new_L_microhenry}u\"\n",
    "\n",
    "lines = modify_inductance(lines, 'L1', new_inductance_value)\n",
    "\n",
    "# Save the modified .asc file\n",
    "with open(asc_file, 'w', encoding='latin-1') as file:\n",
    "    file.writelines(lines)\n",
    "\n",
    "print(\"Inductance value modified successfully.\")\n",
    "\n",
    "\n",
    "# To see the change reload the .asc file"
   ]
  },
  {
   "cell_type": "code",
   "execution_count": null,
   "id": "4123fc5a-987c-4b63-8581-5fb62f0b73aa",
   "metadata": {},
   "outputs": [],
   "source": [
    "# Function to modify the ESR value\n",
    "\n",
    "def modify_ESR(lines, ESR_name, new_value):\n",
    "    for i, line in enumerate(lines):\n",
    "        if line.strip() == f\"SYMATTR InstName {ESR_name}\":\n",
    "            if lines[i + 1].strip().startswith(\"SYMATTR Value\"):\n",
    "                # Print the original lines for verification\n",
    "                print(f\"Original line {i}: {lines[i].strip()}\")\n",
    "                print(f\"Original line {i + 1}: {lines[i + 1].strip()}\")\n",
    "                \n",
    "                # Modify the inductance value\n",
    "                lines[i + 1] = f\"SYMATTR Value {new_value}\\n\"\n",
    "                \n",
    "                # Print the modified lines for verification\n",
    "                print(f\"Modified line {i}: {lines[i].strip()}\")\n",
    "                print(f\"Modified line {i + 1}: {lines[i + 1].strip()}\")\n",
    "                break\n",
    "    return lines"
   ]
  },
  {
   "cell_type": "code",
   "execution_count": null,
   "id": "001616d0-5e89-4482-b3be-a4bede4a5047",
   "metadata": {},
   "outputs": [],
   "source": [
    "# Modify the resistance of ESR to a new value (e.g., 1.5m)\n",
    "\n",
    "# new_ESR_value = '1.55m'\n",
    "new_ESR_value = f\"{new_ESR_mili}m\"\n",
    "\n",
    "lines = modify_ESR(lines, 'ESR', new_ESR_value)\n",
    "\n",
    "# Save the modified .asc file\n",
    "with open(asc_file, 'w', encoding='latin-1') as file:\n",
    "    file.writelines(lines)\n",
    "\n",
    "print(\"ESR value modified successfully.\")\n",
    "\n",
    "\n",
    "# To see the change reload the .asc file"
   ]
  },
  {
   "cell_type": "markdown",
   "id": "9ad6b691-81cc-4eaa-9a2e-de746a1195a2",
   "metadata": {},
   "source": [
    "# Open LTspice confirm the changes and run the simulation"
   ]
  },
  {
   "cell_type": "code",
   "execution_count": null,
   "id": "5c198921-0a22-4e97-b842-c70c5555b8c5",
   "metadata": {},
   "outputs": [],
   "source": []
  }
 ],
 "metadata": {
  "kernelspec": {
   "display_name": "Python 3 (ipykernel)",
   "language": "python",
   "name": "python3"
  },
  "language_info": {
   "codemirror_mode": {
    "name": "ipython",
    "version": 3
   },
   "file_extension": ".py",
   "mimetype": "text/x-python",
   "name": "python",
   "nbconvert_exporter": "python",
   "pygments_lexer": "ipython3",
   "version": "3.12.4"
  }
 },
 "nbformat": 4,
 "nbformat_minor": 5
}
